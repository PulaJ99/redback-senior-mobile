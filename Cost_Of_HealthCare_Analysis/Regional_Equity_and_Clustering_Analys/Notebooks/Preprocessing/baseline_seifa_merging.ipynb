{
 "cells": [
  {
   "cell_type": "markdown",
   "id": "714f1ae0",
   "metadata": {},
   "source": [
    "# Merging Cost_PPH and SEIFA Datasets\n"
   ]
  },
  {
   "cell_type": "code",
   "execution_count": 18,
   "id": "ab7a8bd3",
   "metadata": {},
   "outputs": [],
   "source": [
    "# importing the required libraries\n",
    "import pandas as pd\n",
    "\n",
    "# Loading the preprocessed cost and pph dataset files \n",
    "seifa_phn_df =  pd.read_csv('../Data/preprocessed-data/seifa_phn.csv')\n",
    "cost_pph_df = pd.read_csv('../Data/preprocessed-data/merged_cost_pph.csv')"
   ]
  },
  {
   "cell_type": "code",
   "execution_count": 19,
   "id": "a438717a",
   "metadata": {},
   "outputs": [
    {
     "name": "stdout",
     "output_type": "stream",
     "text": [
      "NaN PHN in Cost_PPH: 0\n",
      "Duplicate PHN in Cost_PPH: 0\n",
      "NaN PHN in SEIFA: 0\n",
      "Duplicate PHN in SEIFA: 0\n",
      "PHNs in baseline not in SEIFA: []\n",
      "PHNs in SEIFA not in baseline: ['PHN205']\n"
     ]
    }
   ],
   "source": [
    "# Prechecks on the datasets before merging\n",
    "\n",
    "# Clean and check columns\n",
    "for df_name, df in [('Cost_PPH', cost_pph_df), ('SEIFA', seifa_phn_df)]:\n",
    "    assert 'PHN_Code' in df.columns, f\"PHN_Code missing in {df_name}\"\n",
    "    df['PHN_Code'] = df['PHN_Code'].astype(str).str.strip()\n",
    "    print(f\"NaN PHN in {df_name}:\", df['PHN_Code'].isna().sum())\n",
    "    print(f\"Duplicate PHN in {df_name}:\", df['PHN_Code'].duplicated().sum())\n",
    "\n",
    "# Check PHN overlap\n",
    "cost_phns  = set(cost_pph_df['PHN_Code'])\n",
    "seifa_phns = set(seifa_phn_df['PHN_Code'])\n",
    "\n",
    "print(\"PHNs in baseline not in SEIFA:\", sorted(cost_phns - seifa_phns))\n",
    "print(\"PHNs in SEIFA not in baseline:\", sorted(seifa_phns - cost_phns))\n"
   ]
  },
  {
   "cell_type": "code",
   "execution_count": 20,
   "id": "fced1cd6",
   "metadata": {},
   "outputs": [
    {
     "name": "stdout",
     "output_type": "stream",
     "text": [
      "Dropped PHN205 from SEIFA table: 1 row removed\n"
     ]
    }
   ],
   "source": [
    "# Exclude PHN205 to keep consistency with state-based cost measure\n",
    "n_before = len(seifa_phn_df)\n",
    "seifa_phn_agg = seifa_phn_df[seifa_phn_df['PHN_Code'] != 'PHN205'].copy()\n",
    "print(f\"Dropped PHN205 from SEIFA table: {n_before - len(seifa_phn_agg)} row removed\")\n"
   ]
  },
  {
   "cell_type": "markdown",
   "id": "954089e1",
   "metadata": {},
   "source": [
    "### Cross‑border PHN handling.\n",
    "The SEIFA dataset includes PHN205 (VIC/NSW cross‑border). Our cost measure is state‑level (one value per state), so a single cost per person cannot be assigned to a cross‑border PHN without additional population share weighting. To maintain internal consistency and avoid introducing a partially imputed value, PHN205 was excluded from the analysis. This decision affects only one PHN and does not change conclusions at the national level."
   ]
  },
  {
   "cell_type": "code",
   "execution_count": 21,
   "id": "c0e1a9aa",
   "metadata": {},
   "outputs": [
    {
     "data": {
      "text/html": [
       "<div>\n",
       "<style scoped>\n",
       "    .dataframe tbody tr th:only-of-type {\n",
       "        vertical-align: middle;\n",
       "    }\n",
       "\n",
       "    .dataframe tbody tr th {\n",
       "        vertical-align: top;\n",
       "    }\n",
       "\n",
       "    .dataframe thead th {\n",
       "        text-align: right;\n",
       "    }\n",
       "</style>\n",
       "<table border=\"1\" class=\"dataframe\">\n",
       "  <thead>\n",
       "    <tr style=\"text-align: right;\">\n",
       "      <th></th>\n",
       "      <th>PHN_Code</th>\n",
       "      <th>PHN_Name</th>\n",
       "      <th>State</th>\n",
       "      <th>PPH_rate_per_100k</th>\n",
       "      <th>Cost_per_person</th>\n",
       "      <th>SEIFA_IRSD_Score</th>\n",
       "      <th>IRSD_Decile_Mean</th>\n",
       "    </tr>\n",
       "  </thead>\n",
       "  <tbody>\n",
       "    <tr>\n",
       "      <th>0</th>\n",
       "      <td>PHN101</td>\n",
       "      <td>Central and Eastern Sydney</td>\n",
       "      <td>NSW</td>\n",
       "      <td>1688.577</td>\n",
       "      <td>111.426</td>\n",
       "      <td>1033.035</td>\n",
       "      <td>6.871</td>\n",
       "    </tr>\n",
       "    <tr>\n",
       "      <th>1</th>\n",
       "      <td>PHN102</td>\n",
       "      <td>Northern Sydney</td>\n",
       "      <td>NSW</td>\n",
       "      <td>1795.760</td>\n",
       "      <td>111.426</td>\n",
       "      <td>1085.809</td>\n",
       "      <td>9.188</td>\n",
       "    </tr>\n",
       "    <tr>\n",
       "      <th>2</th>\n",
       "      <td>PHN103</td>\n",
       "      <td>Western Sydney</td>\n",
       "      <td>NSW</td>\n",
       "      <td>1616.840</td>\n",
       "      <td>111.426</td>\n",
       "      <td>997.145</td>\n",
       "      <td>5.857</td>\n",
       "    </tr>\n",
       "    <tr>\n",
       "      <th>3</th>\n",
       "      <td>PHN104</td>\n",
       "      <td>Nepean Blue Mountains</td>\n",
       "      <td>NSW</td>\n",
       "      <td>1695.080</td>\n",
       "      <td>111.426</td>\n",
       "      <td>1005.928</td>\n",
       "      <td>5.719</td>\n",
       "    </tr>\n",
       "    <tr>\n",
       "      <th>4</th>\n",
       "      <td>PHN105</td>\n",
       "      <td>South Western Sydney</td>\n",
       "      <td>NSW</td>\n",
       "      <td>1639.889</td>\n",
       "      <td>111.426</td>\n",
       "      <td>931.202</td>\n",
       "      <td>4.225</td>\n",
       "    </tr>\n",
       "  </tbody>\n",
       "</table>\n",
       "</div>"
      ],
      "text/plain": [
       "  PHN_Code                    PHN_Name State  PPH_rate_per_100k  \\\n",
       "0   PHN101  Central and Eastern Sydney   NSW           1688.577   \n",
       "1   PHN102             Northern Sydney   NSW           1795.760   \n",
       "2   PHN103              Western Sydney   NSW           1616.840   \n",
       "3   PHN104       Nepean Blue Mountains   NSW           1695.080   \n",
       "4   PHN105        South Western Sydney   NSW           1639.889   \n",
       "\n",
       "   Cost_per_person  SEIFA_IRSD_Score  IRSD_Decile_Mean  \n",
       "0          111.426          1033.035             6.871  \n",
       "1          111.426          1085.809             9.188  \n",
       "2          111.426           997.145             5.857  \n",
       "3          111.426          1005.928             5.719  \n",
       "4          111.426           931.202             4.225  "
      ]
     },
     "execution_count": 21,
     "metadata": {},
     "output_type": "execute_result"
    }
   ],
   "source": [
    "# Merging two datasets\n",
    "final_cost_pph_seifa_df = cost_pph_df.merge(seifa_phn_agg[['PHN_Code','SEIFA_IRSD_Score','IRSD_Decile_Mean']],\n",
    "                                             on='PHN_Code', how='inner'\n",
    "                                             )\n",
    "\n",
    "final_cost_pph_seifa_df.head()"
   ]
  },
  {
   "cell_type": "code",
   "execution_count": null,
   "id": "49f33ff4",
   "metadata": {},
   "outputs": [
    {
     "ename": "",
     "evalue": "",
     "output_type": "error",
     "traceback": [
      "\u001b[1;31mThe Kernel crashed while executing code in the current cell or a previous cell. \n",
      "\u001b[1;31mPlease review the code in the cell(s) to identify a possible cause of the failure. \n",
      "\u001b[1;31mClick <a href='https://aka.ms/vscodeJupyterKernelCrash'>here</a> for more info. \n",
      "\u001b[1;31mView Jupyter <a href='command:jupyter.viewOutput'>log</a> for further details."
     ]
    }
   ],
   "source": [
    "# Saving  Final data frame into a csv file\n",
    "final_cost_pph_seifa_df.to_csv('../Data/preprocessed-data/final_cost_pph_seifa_dataset.csv', index=False)"
   ]
  },
  {
   "cell_type": "code",
   "execution_count": null,
   "id": "6df7c0fd",
   "metadata": {},
   "outputs": [],
   "source": []
  }
 ],
 "metadata": {
  "kernelspec": {
   "display_name": "healthcare_analysis",
   "language": "python",
   "name": "healthcare_analysis"
  },
  "language_info": {
   "codemirror_mode": {
    "name": "ipython",
    "version": 3
   },
   "file_extension": ".py",
   "mimetype": "text/x-python",
   "name": "python",
   "nbconvert_exporter": "python",
   "pygments_lexer": "ipython3",
   "version": "3.11.13"
  }
 },
 "nbformat": 4,
 "nbformat_minor": 5
}
