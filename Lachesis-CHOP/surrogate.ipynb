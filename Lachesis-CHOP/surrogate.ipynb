{
  "cells": [
    {
      "cell_type": "code",
      "execution_count": 1,
      "metadata": {
        "colab": {
          "base_uri": "https://localhost:8080/"
        },
        "collapsed": true,
        "id": "5OxnII4bQChv",
        "outputId": "ed02b239-36d1-4d0a-f7a1-a5da627e6dee"
      },
      "outputs": [
        {
          "name": "stdout",
          "output_type": "stream",
          "text": [
            "Working in: C:\\Uni\\T3\\SIT764\\New folder\n"
          ]
        }
      ],
      "source": [
        "import os\n",
        "from pathlib import Path\n",
        "import joblib\n",
        "import pandas as pd\n",
        "import numpy as np\n",
        "\n",
        "from sklearn.tree import DecisionTreeClassifier, plot_tree, export_text\n",
        "from sklearn.metrics import accuracy_score, classification_report, confusion_matrix\n",
        "import matplotlib.pyplot as plt\n",
        "\n",
        "plt.rcParams[\"figure.figsize\"] = (20, 10)\n",
        "pd.set_option(\"display.max_columns\", 300)\n",
        "\n",
        "ROOT = Path(\".\").resolve()\n",
        "print(\"Working in:\", ROOT)"
      ]
    },
    {
      "cell_type": "code",
      "execution_count": 2,
      "metadata": {
        "colab": {
          "base_uri": "https://localhost:8080/",
          "height": 443
        },
        "collapsed": true,
        "id": "VUj2kysHg6uM",
        "outputId": "af6023cd-192a-4e60-fe76-3741c7059721"
      },
      "outputs": [
        {
          "name": "stdout",
          "output_type": "stream",
          "text": [
            "Class names (by index): ['Insufficient Weight', 'Normal Weight', 'Obesity Type_I', 'Obesity Type_II', 'Obesity Type_III', 'Overweight Level_I', 'Overweight Level_II']\n"
          ]
        }
      ],
      "source": [
        "# Step 2: Load RF & encoders, derive class names\n",
        "\n",
        "rf = joblib.load(\"obesity_model.pkl\")\n",
        "encoders = joblib.load(\"encoders.pkl\")\n",
        "\n",
        "# Build class_names list in index order 0..6 from your encoder mapping\n",
        "label_map = encoders.get(\"nobeyesdad\", {})  # {label: index}\n",
        "if not label_map:\n",
        "    raise RuntimeError(\"encoders.pkl must contain key 'nobeyesdad' mapping labels → indices (0..6).\")\n",
        "\n",
        "# index → label list\n",
        "max_idx = max(label_map.values())\n",
        "class_names = [None] * (max_idx + 1)\n",
        "for label, idx in label_map.items():\n",
        "    class_names[idx] = label\n",
        "\n",
        "print(\"Class names (by index):\", class_names)\n"
      ]
    },
    {
      "cell_type": "code",
      "execution_count": 3,
      "metadata": {},
      "outputs": [
        {
          "name": "stdout",
          "output_type": "stream",
          "text": [
            "Data shape: (3213, 24)\n",
            "Columns: ['age', 'height', 'weight', 'family_history_with_overweight', 'favc', 'fcvc', 'ncp', 'smoke', 'ch2o', 'scc', 'faf', 'tue', 'gender_Male', 'caec_Always', 'caec_Frequently', 'caec_Sometimes', 'calc_Frequently', 'calc_Sometimes', 'calc_no', 'mtrans_Bike', 'mtrans_Motorbike', 'mtrans_Public_Transportation', 'mtrans_Walking', 'nobeyesdad'] ...\n",
            "X shape: (3213, 19)  y shape: (3213,)\n"
          ]
        }
      ],
      "source": [
        "# Load preprocessed dataset and build X, y\n",
        "\n",
        "# Adjust filename if yours differs\n",
        "DATA_FILE = \"Final_combined_dataset.csv\"\n",
        "if not (ROOT / DATA_FILE).exists():\n",
        "    raise FileNotFoundError(\n",
        "        f\"Could not find {DATA_FILE}. Place your preprocessed dataset (with NObeyesdad 0..6) in this folder.\"\n",
        "    )\n",
        "\n",
        "df = pd.read_csv(DATA_FILE)\n",
        "print(\"Data shape:\", df.shape)\n",
        "print(\"Columns:\", df.columns.tolist()[:30], \"...\")\n",
        "\n",
        "# Target detection\n",
        "TARGET_CANDIDATES = [\"NObeyesdad\", \"nobeyesdad\"]\n",
        "target_col = next((c for c in TARGET_CANDIDATES if c in df.columns), None)\n",
        "if target_col is None:\n",
        "    raise ValueError(\"Target column 'NObeyesdad' (or 'nobeyesdad') not found in the dataset.\")\n",
        "\n",
        "# Prefer RF's feature order; fall back to df columns minus target\n",
        "rf_feature_names = getattr(rf, \"feature_names_in_\", None)\n",
        "if rf_feature_names is not None:\n",
        "    feature_names = list(rf_feature_names)\n",
        "else:\n",
        "    # Derive from df: all non-target columns\n",
        "    feature_names = [c for c in df.columns if c != target_col]\n",
        "\n",
        "# Validate presence\n",
        "missing = set(feature_names) - set(df.columns)\n",
        "if missing:\n",
        "    raise ValueError(f\"Dataset is missing features expected by RF: {sorted(missing)}\")\n",
        "\n",
        "# Build X, y\n",
        "X = df[feature_names].copy()\n",
        "y = df[target_col].astype(int).copy()\n",
        "\n",
        "# Coerce booleans to numeric (trees accept float)\n",
        "for col in X.columns:\n",
        "    if X[col].dtype == bool:\n",
        "        X[col] = X[col].astype(int)\n",
        "# Ensure numeric dtype (safe cast; fill NAs with 0 if any)\n",
        "X = X.apply(pd.to_numeric, errors=\"coerce\").fillna(0.0).astype(float)\n",
        "\n",
        "print(\"X shape:\", X.shape, \" y shape:\", y.shape)\n"
      ]
    },
    {
      "cell_type": "code",
      "execution_count": 4,
      "metadata": {},
      "outputs": [
        {
          "name": "stdout",
          "output_type": "stream",
          "text": [
            "RF preds sample: [5 1 1 2 6 5 1 1 1 1 0 1]\n"
          ]
        }
      ],
      "source": [
        "# Surrogate learns to mimic RF behavior\n",
        "rf_preds = rf.predict(X[feature_names])\n",
        "print(\"RF preds sample:\", rf_preds[:12])"
      ]
    },
    {
      "cell_type": "code",
      "execution_count": 5,
      "metadata": {
        "colab": {
          "base_uri": "https://localhost:8080/"
        },
        "collapsed": true,
        "id": "Excqe6UERgLn",
        "outputId": "6a0dafdf-636c-415b-fcef-5e26adb0c921"
      },
      "outputs": [
        {
          "name": "stdout",
          "output_type": "stream",
          "text": [
            "Surrogate fidelity to RF: 0.8382\n",
            "RF accuracy vs y:        0.9701\n",
            "Surrogate acc vs y:      0.8217\n"
          ]
        }
      ],
      "source": [
        "#Train the surrogate Decision Tree\n",
        "\n",
        "surrogate = DecisionTreeClassifier(\n",
        "    max_depth=4,          # keep readable (tune 3–5)\n",
        "    min_samples_leaf=20,  # avoid tiny leaves (tune as needed)\n",
        "    random_state=42\n",
        ")\n",
        "surrogate.fit(X[feature_names], rf_preds)\n",
        "\n",
        "# Fidelity: agreement between surrogate and RF\n",
        "fidelity = (surrogate.predict(X[feature_names]) == rf_preds).mean()\n",
        "print(f\"Surrogate fidelity to RF: {fidelity:.4f}\")\n",
        "\n",
        "# Optional: compare both to ground truth y (just to report)\n",
        "try:\n",
        "    acc_rf_vs_y = accuracy_score(y, rf_preds)\n",
        "    acc_surrogate_vs_y = accuracy_score(y, surrogate.predict(X[feature_names]))\n",
        "    print(f\"RF accuracy vs y:        {acc_rf_vs_y:.4f}\")\n",
        "    print(f\"Surrogate acc vs y:      {acc_surrogate_vs_y:.4f}\")\n",
        "except Exception as e:\n",
        "    print(\"Skipping ground-truth accuracy comparison:\", e)\n"
      ]
    },
    {
      "cell_type": "code",
      "execution_count": 6,
      "metadata": {},
      "outputs": [
        {
          "name": "stdout",
          "output_type": "stream",
          "text": [
            "Saved bundle → C:\\Uni\\T3\\SIT764\\New folder\\surrogate_dt.pkl\n"
          ]
        }
      ],
      "source": [
        "#Save bundle for your Streamlit app\n",
        "\n",
        "bundle = {\n",
        "    \"model\": surrogate,\n",
        "    \"feature_names\": feature_names,\n",
        "    \"class_names\": class_names,\n",
        "    \"fidelity\": float(fidelity),\n",
        "}\n",
        "joblib.dump(bundle, \"surrogate_dt.pkl\")\n",
        "print(\"Saved bundle →\", (ROOT / \"surrogate_dt.pkl\").resolve())"
      ]
    },
    {
      "cell_type": "code",
      "execution_count": 14,
      "metadata": {},
      "outputs": [
        {
          "name": "stdout",
          "output_type": "stream",
          "text": [
            "Collecting graphviz\n",
            "  Downloading graphviz-0.21-py3-none-any.whl.metadata (12 kB)\n",
            "Downloading graphviz-0.21-py3-none-any.whl (47 kB)\n",
            "Installing collected packages: graphviz\n",
            "Successfully installed graphviz-0.21\n",
            "Note: you may need to restart the kernel to use updated packages.\n"
          ]
        }
      ],
      "source": [
        "pip install graphviz\n"
      ]
    },
    {
      "cell_type": "code",
      "execution_count": null,
      "metadata": {},
      "outputs": [
        {
          "name": "stdout",
          "output_type": "stream",
          "text": [
            "Saved SVG/PNG via Graphviz.\n"
          ]
        }
      ],
      "source": [
        "# Export a clearer, depth-limited view (recommended for reports)\n",
        "from sklearn.tree import export_graphviz\n",
        "import graphviz\n",
        "from pathlib import Path\n",
        "\n",
        "dot = export_graphviz(\n",
        "    surrogate,\n",
        "    out_file=None,\n",
        "    feature_names=feature_names,\n",
        "    class_names=class_names,\n",
        "    filled=True,\n",
        "    rounded=True,\n",
        "    special_characters=True,\n",
        "    max_depth=4\n",
        ")\n",
        "\n",
        "# Add spacing hints to avoid crowding\n",
        "dot = dot.replace(\"digraph Tree {\", \"digraph Tree {\\n  ranksep=1.2;\\n  nodesep=0.6;\\n\")\n",
        "\n",
        "# Export crisp SVG and PNG\n",
        "graphviz.Source(dot, format=\"svg\").render(\"surrogate_tree_depth4_gv\", cleanup=True)\n",
        "graphviz.Source(dot, format=\"png\").render(\"surrogate_tree_depth4_gv@2x\", cleanup=True)\n",
        "print(\"Saved SVG/PNG via Graphviz.\")\n"
      ]
    }
  ],
  "metadata": {
    "colab": {
      "provenance": []
    },
    "kernelspec": {
      "display_name": "base",
      "language": "python",
      "name": "python3"
    },
    "language_info": {
      "codemirror_mode": {
        "name": "ipython",
        "version": 3
      },
      "file_extension": ".py",
      "mimetype": "text/x-python",
      "name": "python",
      "nbconvert_exporter": "python",
      "pygments_lexer": "ipython3",
      "version": "3.13.5"
    }
  },
  "nbformat": 4,
  "nbformat_minor": 0
}
